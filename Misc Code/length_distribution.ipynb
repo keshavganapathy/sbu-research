{
 "cells": [
  {
   "cell_type": "code",
   "execution_count": 102,
   "metadata": {},
   "outputs": [],
   "source": [
    "import pandas as pd\n",
    "import re\n",
    "\n",
    "total = 0"
   ]
  },
  {
   "cell_type": "code",
   "execution_count": 115,
   "metadata": {},
   "outputs": [
    {
     "name": "stdout",
     "output_type": "stream",
     "text": [
      "Average token amount per string is: 222.67362924281986\n",
      "383\n"
     ]
    }
   ],
   "source": [
    "a_file = open(\"all_version_falseneg.txt\")\n",
    "file_contents = a_file.read()\n",
    "contents_split = file_contents.splitlines()\n",
    "\n",
    "sum = 0\n",
    "\n",
    "for elem in contents_split:\n",
    "    #special_chars = len(elem) - len( re.findall('[\\w]', elem) )\n",
    "    elem = elem.split(\" \")\n",
    "    sum = sum + len(elem) + special_chars\n",
    "\n",
    "    \n",
    "print(\"Average token amount per string is: \" + str(sum/len(contents_split)))\n",
    "\n",
    "total = total + sum\n",
    "\n",
    "print(len(contents_split))\n",
    "a_file.close()"
   ]
  },
  {
   "cell_type": "code",
   "execution_count": 116,
   "metadata": {},
   "outputs": [
    {
     "name": "stdout",
     "output_type": "stream",
     "text": [
      "Average token amount per string is: 178.3661971830986\n",
      "497\n"
     ]
    }
   ],
   "source": [
    "a_file = open(\"all_version_falsepos.txt\")\n",
    "file_contents = a_file.read()\n",
    "contents_split = file_contents.splitlines()\n",
    "\n",
    "sum = 0\n",
    "\n",
    "for elem in contents_split:\n",
    "    #special_chars = len(elem) - len( re.findall('[\\w]', elem) )\n",
    "    elem = elem.split(\" \")\n",
    "    sum = sum + len(elem) + special_chars\n",
    "    \n",
    "print(\"Average token amount per string is: \" + str(sum/len(contents_split)))\n",
    "\n",
    "total = total + sum\n",
    "\n",
    "print(len(contents_split))\n",
    "a_file.close()"
   ]
  },
  {
   "cell_type": "code",
   "execution_count": 117,
   "metadata": {},
   "outputs": [
    {
     "name": "stdout",
     "output_type": "stream",
     "text": [
      "Average token amount per string is: 149.44871129562358\n",
      "11562\n"
     ]
    }
   ],
   "source": [
    "a_file = open(\"all_version_neg.txt\")\n",
    "file_contents = a_file.read()\n",
    "contents_split = file_contents.splitlines()\n",
    "\n",
    "sum = 0\n",
    "\n",
    "for elem in contents_split:\n",
    "    #special_chars = len(elem) - len( re.findall('[\\w]', elem) )\n",
    "    elem = elem.split(\" \")\n",
    "    sum = sum + len(elem) + special_chars\n",
    "    \n",
    "print(\"Average token amount per string is: \" + str(sum/len(contents_split)))\n",
    "\n",
    "total = total + sum\n",
    "\n",
    "print(len(contents_split))\n",
    "a_file.close()"
   ]
  },
  {
   "cell_type": "code",
   "execution_count": 118,
   "metadata": {},
   "outputs": [
    {
     "name": "stdout",
     "output_type": "stream",
     "text": [
      "Average token amount per string is: 175.5680048451289\n",
      "11558\n"
     ]
    }
   ],
   "source": [
    "a_file = open(\"all_version_pos.txt\")\n",
    "file_contents = a_file.read()\n",
    "contents_split = file_contents.splitlines()\n",
    "\n",
    "sum = 0\n",
    "\n",
    "for elem in contents_split:\n",
    "    #special_chars = len(elem) - len( re.findall('[\\w]', elem) )\n",
    "    elem = elem.split(\" \")\n",
    "    sum = sum + len(elem) + special_chars\n",
    "    \n",
    "print(\"Average token amount per string is: \" + str(sum/len(contents_split)))\n",
    "\n",
    "total = total + sum\n",
    "\n",
    "print(len(contents_split))\n",
    "a_file.close()"
   ]
  },
  {
   "cell_type": "code",
   "execution_count": 119,
   "metadata": {},
   "outputs": [
    {
     "name": "stdout",
     "output_type": "stream",
     "text": [
      "2029215\n",
      "3757141\n",
      "3845789\n",
      "3931073\n",
      "Average token amount per string is: 163.79470833333335\n"
     ]
    }
   ],
   "source": [
    "total = 0\n",
    "\n",
    "a_file = open(\"all_version_pos.txt\")\n",
    "file_contents = a_file.read()\n",
    "contents_split = file_contents.splitlines()\n",
    "\n",
    "sum = 0\n",
    "\n",
    "for elem in contents_split:\n",
    "    #special_chars = len(elem) - len( re.findall('[\\w]', elem) )\n",
    "    elem = elem.split(\" \")\n",
    "    sum = sum + len(elem) + special_chars\n",
    "    \n",
    "total = total + sum\n",
    "\n",
    "print(sum)\n",
    "a_file.close()\n",
    "\n",
    "a_file = open(\"all_version_neg.txt\")\n",
    "file_contents = a_file.read()\n",
    "contents_split = file_contents.splitlines()\n",
    "\n",
    "\n",
    "for elem in contents_split:\n",
    "    #special_chars = len(elem) - len( re.findall('[\\w]', elem) )\n",
    "    elem = elem.split(\" \")\n",
    "    sum = sum + len(elem) + special_chars\n",
    "\n",
    "total = total + sum\n",
    "\n",
    "print(sum)\n",
    "a_file.close()\n",
    "\n",
    "\n",
    "a_file = open(\"all_version_falsepos.txt\")\n",
    "file_contents = a_file.read()\n",
    "contents_split = file_contents.splitlines()\n",
    "\n",
    "\n",
    "for elem in contents_split:\n",
    "    #special_chars = len(elem) - len( re.findall('[\\w]', elem) )\n",
    "    elem = elem.split(\" \")\n",
    "    sum = sum + len(elem) + special_chars\n",
    "\n",
    "\n",
    "total = total + sum\n",
    "\n",
    "print(sum)\n",
    "a_file.close()\n",
    "\n",
    "\n",
    "a_file = open(\"all_version_falseneg.txt\")\n",
    "file_contents = a_file.read()\n",
    "contents_split = file_contents.splitlines()\n",
    "\n",
    "\n",
    "for elem in contents_split:\n",
    "    #special_chars = len(elem) - len( re.findall('[\\w]', elem) )\n",
    "    elem = elem.split(\" \")\n",
    "    sum = sum + len(elem) + special_chars\n",
    "\n",
    "\n",
    "total = total + sum\n",
    "\n",
    "print(sum)\n",
    "a_file.close()\n",
    "\n",
    "print(\"Average token amount per string is: \" + str(sum/24000))\n"
   ]
  },
  {
   "cell_type": "code",
   "execution_count": null,
   "metadata": {},
   "outputs": [],
   "source": []
  }
 ],
 "metadata": {
  "kernelspec": {
   "display_name": "Python 3",
   "language": "python",
   "name": "python3"
  },
  "language_info": {
   "codemirror_mode": {
    "name": "ipython",
    "version": 3
   },
   "file_extension": ".py",
   "mimetype": "text/x-python",
   "name": "python",
   "nbconvert_exporter": "python",
   "pygments_lexer": "ipython3",
   "version": "3.7.6"
  }
 },
 "nbformat": 4,
 "nbformat_minor": 4
}
